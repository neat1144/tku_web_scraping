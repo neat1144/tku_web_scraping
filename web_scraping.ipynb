{
 "cells": [
  {
   "cell_type": "markdown",
   "metadata": {},
   "source": [
    "#### 確認 libraries"
   ]
  },
  {
   "cell_type": "code",
   "execution_count": null,
   "metadata": {},
   "outputs": [],
   "source": [
    "from bs4 import BeautifulSoup\n",
    "import requests\n",
    "import os\n",
    "import re\n",
    "import json"
   ]
  },
  {
   "cell_type": "markdown",
   "metadata": {},
   "source": [
    "#### 爬蟲範例#1 (政府電子採購網)"
   ]
  },
  {
   "cell_type": "markdown",
   "metadata": {},
   "source": [
    "##### 1. 分析網址\n",
    "- 採購網:\n",
    "  - https://web.pcc.gov.tw/prkms/tender/common/basic/readTenderBasic?pageSize=50&firstSearch=true&searchType=basic&isBinding=N&isLogIn=N&level_1=on&orgName=%E4%B8%AD%E5%A4%AE%E7%A0%94%E7%A9%B6%E9%99%A2&orgId=2.1&tenderName=&tenderId=&tenderType=TENDER_DECLARATION&tenderWay=TENDER_WAY_ALL_DECLARATION&dateType=isDate&tenderStartDate=2024%2F03%2F21&tenderEndDate=2024%2F03%2F27&radProctrgCate=&policyAdvocacy=\n",
    "- url pretty:\n",
    "  - https://urlprettyprint.com/\n",
    "- Example(等標期內標案):\n",
    "  - ![](img/2.url_ex.png)"
   ]
  },
  {
   "cell_type": "code",
   "execution_count": null,
   "metadata": {},
   "outputs": [],
   "source": [
    "# variable of url\n",
    "start_date = \"2024%2F03%2F01\" # 2024/03/21\n",
    "end_date = \"2024%2F03%2F27\"   # 2024/03/27\n",
    "url = f\"https://web.pcc.gov.tw/prkms/tender/common/basic/readTenderBasic?pageSize=50&firstSearch=true&searchType=basic&isBinding=N&isLogIn=N&level_1=on&orgName=%E4%B8%AD%E5%A4%AE%E7%A0%94%E7%A9%B6%E9%99%A2&orgId=2.1&tenderName=&tenderId=&tenderType=TENDER_DECLARATION&tenderWay=TENDER_WAY_ALL_DECLARATION&dateType=isDate&tenderStartDate={start_date}&tenderEndDate={end_date}&radProctrgCate=&policyAdvocacy=\"\n",
    "print(url)"
   ]
  },
  {
   "cell_type": "markdown",
   "metadata": {},
   "source": [
    "##### 2. 取得 Response\n",
    "- 使用 requests 取得 response\n",
    "- 剖析內容\n",
    "- 將結果存到 .html 檔，用以分析"
   ]
  },
  {
   "cell_type": "code",
   "execution_count": null,
   "metadata": {},
   "outputs": [],
   "source": [
    "# get response\n",
    "response2 = requests.get(url)\n",
    "\n",
    "# parse html\n",
    "soup2 = BeautifulSoup(response2.text, \"html.parser\")\n",
    "\n",
    "# Save to file \"output/pcc.html\"\n",
    "if not os.path.exists(\"output\"):\n",
    "    os.makedirs(\"output\")\n",
    "with open(\"output/pcc.html\", \"w\", encoding=\"utf-8\") as file:\n",
    "    file.write(soup2.prettify())\n"
   ]
  },
  {
   "cell_type": "markdown",
   "metadata": {},
   "source": [
    "##### 3. 取得需要的html原始碼\n",
    "- 分析`html`原始碼\n",
    "- 我們所需要的資料在**第二個**`tbody`中"
   ]
  },
  {
   "cell_type": "code",
   "execution_count": null,
   "metadata": {},
   "outputs": [],
   "source": [
    "# get second tbody\n",
    "tbody = soup2.find_all(\"tbody\")[1] # 取得第二個 tbody\n",
    "\n",
    "print(tbody.prettify()) # print result\n",
    "\n",
    "# Save to file \"output/pcc_tbody.html\"\n",
    "with open(\"output/pcc_tbody.html\", \"w\", encoding=\"utf-8\") as file:\n",
    "    file.write(tbody.prettify())"
   ]
  },
  {
   "cell_type": "markdown",
   "metadata": {},
   "source": [
    "##### 5. 分析剩下的html原始碼"
   ]
  },
  {
   "cell_type": "markdown",
   "metadata": {},
   "source": [
    "- 需要的欄位\n",
    "    ![](img/2.data.png)\n",
    "- 從 `pcc_tbody`中，我們發現需要的欄位東西`tobdy`之下的`tr`\n",
    "- 每個`tr`都是一個row，所以使用**迴圈**取得每個`tr`的`td`"
   ]
  },
  {
   "cell_type": "markdown",
   "metadata": {},
   "source": [
    "###### 先以第一筆資料為範例分析每個欄位"
   ]
  },
  {
   "cell_type": "code",
   "execution_count": null,
   "metadata": {},
   "outputs": [],
   "source": [
    "# get first tr\n",
    "tr = tbody.find(\"tr\")\n",
    "print(tr.prettify())"
   ]
  },
  {
   "cell_type": "markdown",
   "metadata": {},
   "source": [
    "- 取得「項次」"
   ]
  },
  {
   "cell_type": "code",
   "execution_count": null,
   "metadata": {},
   "outputs": [],
   "source": [
    "# 1. Get number \n",
    "number = tr.find(\"td\").text.strip()\n",
    "print(number)\n"
   ]
  },
  {
   "cell_type": "markdown",
   "metadata": {},
   "source": [
    "- 取得「標案案號」和「標案名稱」\n",
    "  - 因為`html`原始碼中，內容被分開了，所以要自己分析和拼湊"
   ]
  },
  {
   "cell_type": "code",
   "execution_count": null,
   "metadata": {},
   "outputs": [],
   "source": [
    "# 2. Get title\n",
    "# Get title-num\n",
    "title_num = tr.find_all(\"td\")[2].text.strip()\n",
    "\n",
    "# Get title-name in script\n",
    "title_name = tr.find_all(\"td\")[2].find(\"script\").text.strip()\n",
    "\n",
    "# Use regex to extract title-name\n",
    "pattern = r'\"(.*?)\"' # regex pattern\n",
    "matches = re.findall(pattern, title_name)\n",
    "if matches:\n",
    "    title_name = matches[0]\n",
    "else:\n",
    "    title_name = \"\"\n",
    "\n",
    "# Combine title-num and title-name\n",
    "title = f\"{title_num} {title_name}\"\n",
    "\n",
    "print(title)\n"
   ]
  },
  {
   "cell_type": "markdown",
   "metadata": {},
   "source": [
    "- 取得「招標方式」、「公告日期」、「截止日期」和「預算金額」"
   ]
  },
  {
   "cell_type": "code",
   "execution_count": null,
   "metadata": {},
   "outputs": [],
   "source": [
    "# 3. Get trending method\n",
    "method = tr.find_all(\"td\")[4].text.strip()\n",
    "print(method)\n",
    "\n",
    "# 4. Get start date\n",
    "start_date = tr.find_all(\"td\")[6].text.strip()\n",
    "print(start_date)\n",
    "\n",
    "# 5. Get end date\n",
    "end_date = tr.find_all(\"td\")[7].text.strip()\n",
    "print(end_date)\n",
    "\n",
    "# 6. Get money\n",
    "money = tr.find_all(\"td\")[8].text.strip()\n",
    "print(money)"
   ]
  },
  {
   "cell_type": "markdown",
   "metadata": {},
   "source": [
    "- 取得標案「鏈接」\n",
    "  - 因為`html`原始碼只有「部分」鏈接，所以要自己拼湊鏈接上去"
   ]
  },
  {
   "cell_type": "code",
   "execution_count": null,
   "metadata": {},
   "outputs": [],
   "source": [
    "# 7. Get url (只有給部分網址，要自己加上去)\n",
    "# get partial url\n",
    "case_url = tr.find_all(\"td\")[9].find(\"a\")[\"href\"]\n",
    "\n",
    "# extract case_url\n",
    "start_index = case_url.find('=')+1\n",
    "end_index = case_url.find('\"', start_index)\n",
    "case_url = case_url[start_index:end_index]\n",
    "\n",
    "# combine real_case_url\n",
    "real_case_url = f\"https://web.pcc.gov.tw/tps/QueryTender/query/searchTenderDetail?pkPmsMain={case_url}=\"\n",
    "\n",
    "print(real_case_url)"
   ]
  },
  {
   "cell_type": "markdown",
   "metadata": {},
   "source": [
    "##### 6. 使用迴圈取得所有資料"
   ]
  },
  {
   "cell_type": "code",
   "execution_count": null,
   "metadata": {},
   "outputs": [],
   "source": [
    "# empty list\n",
    "data = []\n",
    "\n",
    "# loop each tr\n",
    "for tr in tbody.find_all(\"tr\"):\n",
    "    # 1. Get serial number\n",
    "    num = tr.find_all(\"td\")[0].text.strip()\n",
    "    \n",
    "    # 2. Get title\n",
    "    # Get title-num\n",
    "    title_num = tr.find_all(\"td\")[2].text.strip()\n",
    "\n",
    "    # Get title-name in script\n",
    "    title_name = tr.find_all(\"td\")[2].find(\"script\").text.strip()\n",
    "    pattern = r'\"(.*?)\"'\n",
    "    matches = re.findall(pattern, title_name)\n",
    "    if matches:\n",
    "        title_name = matches[0]\n",
    "    else:\n",
    "        title_name = \"\"\n",
    "\n",
    "    # Combine title-num and title-name\n",
    "    title = f\"{title_num} {title_name}\"\n",
    "\n",
    "    # 3. Get trending method\n",
    "    method = tr.find_all(\"td\")[4].text.strip()\n",
    "    \n",
    "    # 4. Get start date\n",
    "    start_date = tr.find_all(\"td\")[6].text.strip()\n",
    "\n",
    "    # 5. Get end date\n",
    "    end_date = tr.find_all(\"td\")[7].text.strip()\n",
    "\n",
    "    # 6. Get money\n",
    "    money = tr.find_all(\"td\")[8].text.strip()\n",
    "\n",
    "    # 7. Get url (只有給部分網址，要自己加上去)\n",
    "    case_url = tr.find_all(\"td\")[9].find(\"a\")[\"href\"]\n",
    "    start_index = case_url.find('=')+1\n",
    "    end_index = case_url.find('\"', start_index)\n",
    "    case_url = case_url[start_index:end_index]\n",
    "    real_case_url = f\"https://web.pcc.gov.tw/tps/QueryTender/query/searchTenderDetail?pkPmsMain={case_url}=\"\n",
    "\n",
    "    # Append to data list\n",
    "    data.append({\n",
    "        \"num\": num,\n",
    "        \"title\": title,\n",
    "        \"method\": method,\n",
    "        \"start_date\": start_date,\n",
    "        \"end_date\": end_date,\n",
    "        \"money\": money,\n",
    "        \"case_url\": real_case_url\n",
    "    })\n",
    "\n",
    "# Print data list\n",
    "for d in data:\n",
    "    print(d)\n"
   ]
  },
  {
   "cell_type": "markdown",
   "metadata": {},
   "source": [
    "##### 7. 將結果存到 .json"
   ]
  },
  {
   "cell_type": "code",
   "execution_count": null,
   "metadata": {},
   "outputs": [],
   "source": [
    "# save to file \"output/pcc_data.json\"\n",
    "with open(\"output/pcc_data.json\", \"w\", encoding=\"utf-8\") as file:\n",
    "    json.dump(data, file, ensure_ascii=False, indent=2)"
   ]
  }
 ],
 "metadata": {
  "kernelspec": {
   "display_name": "tku_web_scraping",
   "language": "python",
   "name": "python3"
  },
  "language_info": {
   "codemirror_mode": {
    "name": "ipython",
    "version": 3
   },
   "file_extension": ".py",
   "mimetype": "text/x-python",
   "name": "python",
   "nbconvert_exporter": "python",
   "pygments_lexer": "ipython3",
   "version": "3.10.14"
  }
 },
 "nbformat": 4,
 "nbformat_minor": 2
}
